{
 "cells": [
  {
   "cell_type": "code",
   "execution_count": 1,
   "metadata": {},
   "outputs": [
    {
     "data": {
      "text/plain": [
       "2916"
      ]
     },
     "execution_count": 1,
     "metadata": {},
     "output_type": "execute_result"
    }
   ],
   "source": [
    "(lambda x: x*x)(int(input('PLease provide a number')))"
   ]
  },
  {
   "cell_type": "code",
   "execution_count": 3,
   "metadata": {},
   "outputs": [
    {
     "data": {
      "text/plain": [
       "'Password starts with an uppercase'"
      ]
     },
     "execution_count": 3,
     "metadata": {},
     "output_type": "execute_result"
    }
   ],
   "source": [
    "(lambda password: 'Password starts with an uppercase' if password[0]== password[0].upper() else 'Password does not starts with an uppercase' )(input('Please enter your password'))"
   ]
  },
  {
   "cell_type": "code",
   "execution_count": 8,
   "metadata": {},
   "outputs": [
    {
     "data": {
      "text/plain": [
       "'Password starts with an uppercase and a digit'"
      ]
     },
     "execution_count": 8,
     "metadata": {},
     "output_type": "execute_result"
    }
   ],
   "source": [
    "#Write a lambda function to check if a password starts with an uppercase and ends with a digit\n",
    "(lambda password: 'Password starts with an uppercase and a digit' if password[0]== password[0].upper() and password[-1] == '0' or password[-1]=='1' else 'Password does not starts with an uppercase and a digit' )(input('Please enter your password'))"
   ]
  },
  {
   "cell_type": "code",
   "execution_count": 9,
   "metadata": {},
   "outputs": [
    {
     "name": "stdout",
     "output_type": "stream",
     "text": [
      "['ADE', 'GRACE', 'MARY', 'JANE', 'JAME', 'GLORY']\n"
     ]
    }
   ],
   "source": [
    "names = ['ade','grace','mary','jane','jame','glory']\n",
    "updatename = list(map(lambda x:str.upper(x),names))\n",
    "print(updatename)"
   ]
  },
  {
   "cell_type": "code",
   "execution_count": 11,
   "metadata": {},
   "outputs": [
    {
     "name": "stdout",
     "output_type": "stream",
     "text": [
      "['jane', 'jame']\n"
     ]
    }
   ],
   "source": [
    "names = ['ade','grace','mary','jane','jame','glory']\n",
    "updatename = list(filter(lambda x:x.startswith('j'),names))\n",
    "print(updatename)"
   ]
  },
  {
   "cell_type": "code",
   "execution_count": null,
   "metadata": {},
   "outputs": [],
   "source": []
  }
 ],
 "metadata": {
  "kernelspec": {
   "display_name": "Python 3.9.12 ('base')",
   "language": "python",
   "name": "python3"
  },
  "language_info": {
   "codemirror_mode": {
    "name": "ipython",
    "version": 3
   },
   "file_extension": ".py",
   "mimetype": "text/x-python",
   "name": "python",
   "nbconvert_exporter": "python",
   "pygments_lexer": "ipython3",
   "version": "3.9.12"
  },
  "orig_nbformat": 4,
  "vscode": {
   "interpreter": {
    "hash": "7c5b4b5f72701d0da4703e0631ab80e1a1879b4a1224ff4bb856e690b4256287"
   }
  }
 },
 "nbformat": 4,
 "nbformat_minor": 2
}
