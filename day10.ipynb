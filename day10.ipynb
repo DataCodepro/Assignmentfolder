{
 "cells": [
  {
   "cell_type": "code",
   "execution_count": 1,
   "metadata": {},
   "outputs": [],
   "source": [
    "# Your friend is having some issues in is phone store of product not complete having is brother as his manager, you are to write a python program to take in some phone details to have a proper documentary and also advise your friend on what to do about is brothe to avoid family issues you are to use class and object\n",
    "\n",
    "#30 minute"
   ]
  },
  {
   "cell_type": "code",
   "execution_count": 4,
   "metadata": {},
   "outputs": [
    {
     "name": "stdout",
     "output_type": "stream",
     "text": [
      "========= The list of the phone avaliable in the store and their Quantity=======\n",
      "1 . Samsung Galaxy 12::256989::10::250000\n"
     ]
    }
   ],
   "source": [
    "class phones:\n",
    "    def __init__(self,phonename,phonemodel,phoneprice,quantity):\n",
    "        self.phonename = phonename\n",
    "        self.phonemodel = phonemodel\n",
    "        self.phoneprice= phoneprice\n",
    "        self.quantity = quantity\n",
    "        \n",
    "    def getmodel(self):\n",
    "        return self.phonemodel\n",
    "    def getprice(self):\n",
    "        return self.phoneprice\n",
    "    def getquantity(self):\n",
    "        return self.quantity\n",
    "    def __str__(self):\n",
    "        return self.phonename +'::'+str(self.getmodel()) + '::'+str(self.getquantity()) + '::'+str(self.getprice()) \n",
    "def cost(rec,phonename,phonemodel,phoneprice,quantity):\n",
    "    rec.append(phones(phonename,phonemodel,phoneprice,quantity))\n",
    "    return rec\n",
    "\n",
    "record = []\n",
    "x = input('Enter y as yes and n as no to perform your operation:')\n",
    "while x =='y':\n",
    "    phonename = input('PHONE NAME:')\n",
    "    phonemodel = input('PHONE MODEL')\n",
    "    phoneprice = input('PHONE PRICE')\n",
    "    quantity = input('QUANTITY')\n",
    "    record = cost(record,phonename,phonemodel,phoneprice,quantity)\n",
    "    x = input('Enter y as yes and n as no to perform your operation:')\n",
    "n = 1\n",
    "print('========= The list of the phone avaliable in the store and their Quantity=======')\n",
    "for items in record:\n",
    "    print(n,'.',items)\n",
    "    n = n+1\n",
    "\n",
    "\n",
    "\n",
    "        "
   ]
  },
  {
   "cell_type": "code",
   "execution_count": 5,
   "metadata": {},
   "outputs": [],
   "source": [
    "#w\n",
    "#r\n",
    "#a\n",
    "#r+"
   ]
  },
  {
   "cell_type": "code",
   "execution_count": 9,
   "metadata": {},
   "outputs": [],
   "source": [
    "file = open('demo.doc','w')\n",
    "file.write('''Your friend is having some issues in is phone store of product not complete \n",
    "having is brother as his manager, you are to write a python program to take in some phone details \n",
    "to have a proper documentary \n",
    "and also advise your friend on what to do about is brothe to avoid family issues you are to use class and object''')\n",
    "file.close()"
   ]
  },
  {
   "cell_type": "code",
   "execution_count": 10,
   "metadata": {},
   "outputs": [
    {
     "name": "stdout",
     "output_type": "stream",
     "text": [
      "num1 = 45 # variable num1 holding an integer value of 45\n",
      "num2 = 12.0 #variable num2 holding a floating value of 12.0\n",
      "name = 'simeon'# variable of name holding a string value of simeon\n",
      "X = True # variable  X holding a boolean value True\n",
      "print(num2)\n",
      "\n",
      "word = 'we\\'re brothers from the other side of the town' # backward slash (\\) denotes escape chrarcter\n",
      "print(word)\n",
      "\n",
      "word2 = \"we're brothers from the other side of the town\"\n",
      "print(word2)\n",
      "\n",
      "word3 = 'Python is fun,\\npython is easy,\\npython is an highlevel languae' # backward slash + n (\\n) denotes new line\n",
      "print(word3)\n",
      "print('\\n')\n",
      "word4 = '''Python is fun\n",
      "python is easy\n",
      "python is an highlevel languae\n",
      "'''  # this is a multiline string\n",
      "print(word4)\n",
      "\n",
      "# STRING CONCATENATION\n",
      "print('hello' + ' '+'world')# joining of string and string\n",
      "print('hello ' + 'world')\n",
      "\n",
      "print('Welcome to python class ' + name)# joining of string and variable also holding a string value\n",
      "\n",
      "surname = 'Kanjuni'\n",
      "print(surname, name) # joining of variable and variable holding string values\n",
      "\n",
      "# STRING FORMATTING\n",
      "price1 = 45000\n",
      "price2 = 15000\n",
      "price3 = 85000\n",
      "report = 'I sold 3 pairs of shirt for {}, 2 pairs of shoe for {} and a suit for {}'\n",
      "print(report.format(price1,price2,price3))\n",
      "\n",
      "print(f'I sold 3 pairs of shirt for {price1}, 2 pairs of shoe for {price2} and a suit for {price3}')\n",
      "\n",
      "\n",
      "\n",
      "\n",
      "\n",
      "\n",
      "\n",
      "\n",
      "\n",
      "\n",
      "\n",
      "\n",
      "\n",
      "\n",
      "\n",
      "\n"
     ]
    }
   ],
   "source": [
    "file = open('day1.py','r')\n",
    "print(file.read())\n",
    "file.close()"
   ]
  },
  {
   "cell_type": "code",
   "execution_count": 12,
   "metadata": {},
   "outputs": [],
   "source": [
    "file = open('demo.txt','a')\n",
    "file.write('python is fun')\n",
    "file.close()"
   ]
  },
  {
   "cell_type": "code",
   "execution_count": 14,
   "metadata": {},
   "outputs": [
    {
     "name": "stdout",
     "output_type": "stream",
     "text": [
      "python is fun\n"
     ]
    }
   ],
   "source": [
    "file = open('demo2.txt','r+')\n",
    "print(file.read())\n",
    "file.write('\\npython is an high level programming language')\n",
    "file.close()"
   ]
  },
  {
   "cell_type": "code",
   "execution_count": null,
   "metadata": {},
   "outputs": [],
   "source": [
    "def accept(self,PH,PP):\n",
    "    ob = phones(PH,PP)\n",
    "    rec.append(ob)"
   ]
  }
 ],
 "metadata": {
  "kernelspec": {
   "display_name": "Python 3.9.12 ('base')",
   "language": "python",
   "name": "python3"
  },
  "language_info": {
   "codemirror_mode": {
    "name": "ipython",
    "version": 3
   },
   "file_extension": ".py",
   "mimetype": "text/x-python",
   "name": "python",
   "nbconvert_exporter": "python",
   "pygments_lexer": "ipython3",
   "version": "3.9.12"
  },
  "orig_nbformat": 4,
  "vscode": {
   "interpreter": {
    "hash": "7c5b4b5f72701d0da4703e0631ab80e1a1879b4a1224ff4bb856e690b4256287"
   }
  }
 },
 "nbformat": 4,
 "nbformat_minor": 2
}
