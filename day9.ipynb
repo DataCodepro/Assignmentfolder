{
 "cells": [
  {
   "cell_type": "code",
   "execution_count": 1,
   "metadata": {},
   "outputs": [],
   "source": [
    "#try\n",
    "#except\n",
    "#else\n",
    "#finally"
   ]
  },
  {
   "cell_type": "code",
   "execution_count": 3,
   "metadata": {},
   "outputs": [
    {
     "name": "stdout",
     "output_type": "stream",
     "text": [
      "You have encountered one or more errors\n"
     ]
    }
   ],
   "source": [
    "try:\n",
    "    num = str(input('Provide any char'))\n",
    "    print(float(num))\n",
    "except:\n",
    "    print('You have encountered one or more errors')"
   ]
  },
  {
   "cell_type": "code",
   "execution_count": 4,
   "metadata": {},
   "outputs": [
    {
     "name": "stdout",
     "output_type": "stream",
     "text": [
      "sorry developers fault\n"
     ]
    }
   ],
   "source": [
    "try:\n",
    "    num = str(input('Provide any char'))\n",
    "    print(float(num))\n",
    "except ValueError:\n",
    "    print('sorry developers fault')\n",
    "except:\n",
    "    print('You have encountered one or more errors')"
   ]
  },
  {
   "cell_type": "code",
   "execution_count": 7,
   "metadata": {},
   "outputs": [
    {
     "name": "stdout",
     "output_type": "stream",
     "text": [
      "PLEASE SIT ON DESIRED ROW \n",
      "ROW1:RICE AND COMPANY\n",
      "ROW2:SWALLOW AND COMPANY\n",
      "ROW3:GRILLED\n",
      "\n",
      "Your total bill is 46800 thanks for patronage\n",
      "We will be looking forward to have you around again\n",
      "Check us via our website www.yourstomachmatters.com\n"
     ]
    }
   ],
   "source": [
    "try:\n",
    "    print('''PLEASE SIT ON DESIRED ROW \n",
    "ROW1:RICE AND COMPANY\n",
    "ROW2:SWALLOW AND COMPANY\n",
    "ROW3:GRILLED\n",
    "''')\n",
    "    row = int(input('Selected row:'))\n",
    "    if row == 1:\n",
    "        plate =  int(input('How many plate to be served'))\n",
    "        riceneeded = input('what nature of rice do you preferre')\n",
    "        rice = int(input('How many spoon of rice needed'))\n",
    "        beaf = int(input('How many pieces of beaf'))\n",
    "        chicken = int(input('How many pieces of chicken'))\n",
    "        drinks =  int(input('How many bottle of drinks'))\n",
    "        water =  int(input('How many bottle of water'))\n",
    "        \n",
    "        riceprice = rice * 200\n",
    "        beafprice = beaf *500\n",
    "        chickenprice = chicken * 1200\n",
    "        drinksprice = drinks*300\n",
    "        waterprice = water*200\n",
    "        totalprice = plate*(riceprice + beafprice + chickenprice + drinksprice + waterprice)\n",
    "        print(f'Your total bill is {totalprice} thanks for patronage')\n",
    "    elif row == 2:\n",
    "        plate =  int(input('How many plate to be served'))\n",
    "        swalloneededwithsoup = input('what nature of swallow and soup do you preferre')\n",
    "        swallow = int(input('How many raps of swallow needed with soup'))\n",
    "        beaf = int(input('How many pieces of beaf'))\n",
    "        chicken = int(input('How many pieces of chicken'))\n",
    "        drinks =  int(input('How many bottle of drinks'))\n",
    "        water =  int(input('How many bottle of water'))\n",
    "        \n",
    "        swallowprice = swallow * 200\n",
    "        beafprice = beaf *500\n",
    "        chickenprice = chicken * 1200\n",
    "        drinksprice = drinks*300\n",
    "        waterprice = water*200\n",
    "        totalprice = plate*(swallowprice + beafprice + chickenprice + drinksprice + waterprice)\n",
    "        print(f'Your total bill is {totalprice} thanks for patronage')\n",
    "    elif row == 3:\n",
    "    \n",
    "        chickengrilled = int(input('How many chickengrilled needed '))\n",
    "        fishgrilled = int(input('How many fishgrilled needed'))\n",
    "        beafgrilled = int(input('How many beafgrilled needed'))\n",
    "        drinks =  int(input('How many bottle of drinks'))\n",
    "        water =  int(input('How many bottle of water'))\n",
    "        \n",
    "        chickengrilledprice = chickengrilled * 4500\n",
    "        fishgrilledprice = fishgrilled *3500\n",
    "        beafgrilledprice = beafgrilled * 2500\n",
    "        drinksprice = drinks*300\n",
    "        waterprice = water*200\n",
    "        totalprice =(chickengrilledprice + fishgrilledprice + beafgrilledprice + drinksprice + waterprice)\n",
    "        print(f'Your total bill is {totalprice} thanks for patronage')\n",
    "except ValueError:\n",
    "    print('sorry developers fault')\n",
    "except:\n",
    "    print('You have encountered one or more errors')\n",
    "else:\n",
    "    print('We will be looking forward to have you around again')\n",
    "finally:\n",
    "    print('Check us via our website www.yourstomachmatters.com')"
   ]
  },
  {
   "cell_type": "code",
   "execution_count": null,
   "metadata": {},
   "outputs": [],
   "source": [
    "7"
   ]
  }
 ],
 "metadata": {
  "kernelspec": {
   "display_name": "Python 3.10.4 64-bit",
   "language": "python",
   "name": "python3"
  },
  "language_info": {
   "codemirror_mode": {
    "name": "ipython",
    "version": 3
   },
   "file_extension": ".py",
   "mimetype": "text/x-python",
   "name": "python",
   "nbconvert_exporter": "python",
   "pygments_lexer": "ipython3",
   "version": "3.10.4"
  },
  "orig_nbformat": 4,
  "vscode": {
   "interpreter": {
    "hash": "97a318a1c10ea3cad32b5f740e8bef65bce9a717407c951d39899fa160feabd9"
   }
  }
 },
 "nbformat": 4,
 "nbformat_minor": 2
}
